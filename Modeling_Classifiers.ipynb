{
 "cells": [
  {
   "cell_type": "code",
   "execution_count": 1,
   "metadata": {},
   "outputs": [],
   "source": [
    "# %load src/model_selection.py\n",
    "import pandas as pd\n",
    "import numpy as np\n",
    "import matplotlib.pyplot as plt\n",
    "import seaborn\n",
    "from sklearn.linear_model import LogisticRegression\n",
    "from sklearn.ensemble import GradientBoostingClassifier, RandomForestClassifier\n",
    "from sklearn.metrics import roc_curve, precision_score, recall_score,roc_auc_score\n",
    "from imblearn.over_sampling import SMOTE\n",
    "from sklearn.metrics import f1_score, confusion_matrix, accuracy_score, precision_score, recall_score,  classification_report, make_scorer\n",
    "\n",
    "from sklearn.preprocessing import StandardScaler\n",
    "from sklearn.metrics import roc_curve, auc\n",
    "from sklearn.pipeline import Pipeline\n",
    "from sklearn.preprocessing import StandardScaler, LabelEncoder, LabelBinarizer\n",
    "from sklearn.impute import SimpleImputer\n",
    "\n",
    "from sklearn.model_selection import train_test_split, KFold, cross_val_score, GridSearchCV\n",
    "from src.plot_confusion_matrix import plot_confusion_matrix\n",
    "%matplotlib inline\n",
    "pd.options.display.max_colwidth = 50\n",
    "\n",
    "import pickle\n",
    "\n",
    "from datetime import date\n",
    "import calendar\n",
    "\n",
    "import warnings\n",
    "warnings.simplefilter(action='ignore', category=FutureWarning)\n",
    "\n",
    "from sklearn.exceptions import DataConversionWarning\n",
    "warnings.filterwarnings(action='ignore', category=DataConversionWarning)"
   ]
  },
  {
   "cell_type": "markdown",
   "metadata": {},
   "source": [
    "* Retrieve raw data from pipeline.py.\n",
    "* Merge standardized geo-spatial (city, admin1, admin2, country) to the master data.\n",
    "* Enrich features based on the \"tickets_type\" field - unpacking lists of dictionaries."
   ]
  },
  {
   "cell_type": "code",
   "execution_count": 2,
   "metadata": {},
   "outputs": [],
   "source": [
    "# %load src/merging geospatial info.py\n",
    "import pandas as pd\n",
    "import pickle\n",
    "\n",
    "\n",
    "rg = pd.read_pickle('data/rg.pkl')\n",
    "\n",
    "get_ipython().run_line_magic('run', 'src/pipeline')\n",
    "D = FraudData('data/data.json')\n",
    "df = D.get_enriched_df()\n",
    "\n",
    "\n",
    "\n"
   ]
  },
  {
   "cell_type": "code",
   "execution_count": 3,
   "metadata": {},
   "outputs": [
    {
     "data": {
      "text/plain": [
       "0    13044\n",
       "1     1293\n",
       "Name: label, dtype: int64"
      ]
     },
     "execution_count": 3,
     "metadata": {},
     "output_type": "execute_result"
    }
   ],
   "source": [
    "df.label.value_counts()"
   ]
  },
  {
   "cell_type": "code",
   "execution_count": 4,
   "metadata": {},
   "outputs": [],
   "source": [
    "loc = df[['venue_latitude','venue_longitude','object_id']]\n",
    "loc = loc[~loc['venue_latitude'].isnull()]\n",
    "\n",
    "loc2 = loc.join(rg)\n",
    "loc3 = loc2.drop(['venue_latitude', 'venue_longitude'],axis = 1)\n",
    "df = df.merge(loc3, how='left', right_on = 'object_id', left_on = 'object_id')\n",
    "\n",
    "\n"
   ]
  },
  {
   "cell_type": "code",
   "execution_count": 5,
   "metadata": {},
   "outputs": [
    {
     "data": {
      "text/plain": [
       "event_id              0\n",
       "cost min              0\n",
       "cost max              0\n",
       "quantity_total sum    0\n",
       "dtype: int64"
      ]
     },
     "execution_count": 5,
     "metadata": {},
     "output_type": "execute_result"
    }
   ],
   "source": [
    "idx= df.set_index(['object_id']).ticket_types.apply(pd.Series).stack().index\n",
    "\n",
    "tmp = pd.DataFrame(df.set_index(['object_id']).ticket_types.apply(pd.Series).stack().values.tolist(),index=idx).reset_index().drop('level_1',1)\n",
    "tmp_sum = tmp.groupby('event_id').agg({'cost': ['min', 'max'],'quantity_total' : 'sum' }).reset_index()\n",
    "tmp_sum.columns = [' '.join(col).strip() for col in tmp_sum.columns.values]\n",
    "\n",
    "tmp_sum.isnull().sum()"
   ]
  },
  {
   "cell_type": "code",
   "execution_count": 7,
   "metadata": {},
   "outputs": [],
   "source": [
    "df = df.merge(tmp_sum, how='left', left_on = 'object_id', right_on = 'event_id')\n",
    "df['ticket_tiers_num'] = df['ticket_types'].apply(lambda x: len(x))\n",
    "\n",
    "for col in ['cost min', 'cost max','quantity_total sum']:\n",
    "    df[col]=df[col].apply(lambda x: 0 if pd.isnull(x) else x)\n",
    "\n",
    "df['day_of_week'] = df['ec_weekday'].apply(lambda x: calendar.day_name[x])\n",
    "\n",
    "df.listed.replace(('y', 'n'), (1, 0), inplace=True)\n",
    "\n",
    "df['payout_type'] = df['payout_type'].replace(r'^\\s*$', np.nan, regex=True)"
   ]
  },
  {
   "cell_type": "code",
   "execution_count": 8,
   "metadata": {},
   "outputs": [
    {
     "data": {
      "text/plain": [
       "count     14337.000000\n",
       "mean        191.936397\n",
       "std        1373.360284\n",
       "min           0.000000\n",
       "25%          15.000000\n",
       "50%          32.080000\n",
       "75%          93.510000\n",
       "max      100000.000000\n",
       "Name: cost max, dtype: float64"
      ]
     },
     "execution_count": 8,
     "metadata": {},
     "output_type": "execute_result"
    }
   ],
   "source": [
    "df['cost max'].describe()"
   ]
  },
  {
   "cell_type": "code",
   "execution_count": 9,
   "metadata": {},
   "outputs": [
    {
     "data": {
      "text/plain": [
       "count    14337.000000\n",
       "mean        67.161208\n",
       "std        287.004440\n",
       "min         -1.160000\n",
       "25%          4.000000\n",
       "50%         17.500000\n",
       "75%         45.000000\n",
       "max      15989.800000\n",
       "Name: cost min, dtype: float64"
      ]
     },
     "execution_count": 9,
     "metadata": {},
     "output_type": "execute_result"
    }
   ],
   "source": [
    "df['cost min'].describe()"
   ]
  },
  {
   "cell_type": "code",
   "execution_count": 83,
   "metadata": {},
   "outputs": [
    {
     "data": {
      "text/plain": [
       "count    14337.000000\n",
       "mean        50.576759\n",
       "std         59.678090\n",
       "min      -1094.000000\n",
       "25%         17.000000\n",
       "50%         35.000000\n",
       "75%         63.000000\n",
       "max        980.000000\n",
       "Name: sale_duration2, dtype: float64"
      ]
     },
     "execution_count": 83,
     "metadata": {},
     "output_type": "execute_result"
    }
   ],
   "source": [
    "df['sale_duration2'].describe()"
   ]
  },
  {
   "cell_type": "code",
   "execution_count": 10,
   "metadata": {},
   "outputs": [],
   "source": [
    "n_feat = ['sale_duration', 'user_event_delta', 'cost min', 'cost max', 'quantity_total sum', \n",
    "         'body_length', 'fb_published', 'has_analytics', 'has_logo', 'listed',\n",
    "       'name_length', 'ticket_tiers_num','venue_longitude','venue_latitude' ]"
   ]
  },
  {
   "cell_type": "code",
   "execution_count": 11,
   "metadata": {},
   "outputs": [],
   "source": [
    "c_feat = ['currency','payout_type','day_of_week']"
   ]
  },
  {
   "cell_type": "code",
   "execution_count": 12,
   "metadata": {},
   "outputs": [],
   "source": [
    "df_cat = pd.get_dummies(df[c_feat], dummy_na=True, drop_first=True)"
   ]
  },
  {
   "cell_type": "code",
   "execution_count": 13,
   "metadata": {},
   "outputs": [],
   "source": [
    "df_cat_n = df[n_feat].join(df_cat)\n",
    "# df_cat_n.dtypes"
   ]
  },
  {
   "cell_type": "code",
   "execution_count": 14,
   "metadata": {},
   "outputs": [],
   "source": [
    "hours = pd.get_dummies(df['ec_hour'].astype(str),prefix= 'hour_')\n",
    "feat = df_cat_n.join(hours)"
   ]
  },
  {
   "cell_type": "code",
   "execution_count": 15,
   "metadata": {},
   "outputs": [],
   "source": [
    "y = df.pop('label').values\n",
    "X = feat.copy()\n",
    "\n"
   ]
  },
  {
   "cell_type": "code",
   "execution_count": null,
   "metadata": {},
   "outputs": [],
   "source": []
  },
  {
   "cell_type": "markdown",
   "metadata": {},
   "source": [
    "#### Model Selection"
   ]
  },
  {
   "cell_type": "code",
   "execution_count": 16,
   "metadata": {},
   "outputs": [],
   "source": [
    "X_train, X_test, y_train, y_test = train_test_split(X,y, stratify=y, random_state=42)"
   ]
  },
  {
   "cell_type": "code",
   "execution_count": 17,
   "metadata": {},
   "outputs": [
    {
     "data": {
      "text/plain": [
       "((10752, 54), (3585, 54), (10752,), (3585,))"
      ]
     },
     "execution_count": 17,
     "metadata": {},
     "output_type": "execute_result"
    }
   ],
   "source": [
    "X_train.shape, X_test.shape, y_train.shape, y_test.shape"
   ]
  },
  {
   "cell_type": "code",
   "execution_count": 18,
   "metadata": {},
   "outputs": [],
   "source": [
    "# List of classifiers\n",
    "lr = LogisticRegression()\n",
    "rf = RandomForestClassifier(n_jobs=-1)\n",
    "gb = GradientBoostingClassifier()\n",
    "\n"
   ]
  },
  {
   "cell_type": "code",
   "execution_count": 19,
   "metadata": {},
   "outputs": [],
   "source": [
    "imputation = SimpleImputer(strategy='mean',fill_value=0)\n",
    "pipeline = (Pipeline([\n",
    "                \n",
    "                ('scale', StandardScaler()),\n",
    "                ('impute',imputation),\n",
    "                ('clf', LogisticRegression())\n",
    "                ]))"
   ]
  },
  {
   "cell_type": "code",
   "execution_count": 20,
   "metadata": {},
   "outputs": [],
   "source": [
    "# cross-validation of the training data.\n",
    "\n",
    "def eval_scores(clf):\n",
    "    recall = cross_val_score(clf, X_train, y_train,  scoring='recall')\n",
    "    precision = cross_val_score(clf, X_train, y_train, scoring='precision')\n",
    "    f1 = cross_val_score(clf, X_train, y_train, scoring='f1')\n",
    "\n",
    "    print('Precision', np.mean(precision))\n",
    "    print('Recall', np.mean(recall))\n",
    "    print('F1', np.mean(f1))"
   ]
  },
  {
   "cell_type": "code",
   "execution_count": 21,
   "metadata": {},
   "outputs": [
    {
     "name": "stdout",
     "output_type": "stream",
     "text": [
      "Precision 0.8554164472121532\n",
      "Recall 0.4917599918459912\n",
      "F1 0.6232744672229934\n"
     ]
    }
   ],
   "source": [
    "eval_scores(pipeline)"
   ]
  },
  {
   "cell_type": "code",
   "execution_count": 22,
   "metadata": {},
   "outputs": [],
   "source": [
    "def score_model(pipeline, X_train, y_train, X_test,y_test, threshold = 0.5):\n",
    "    for classifier in [lr, rf,gb]:\n",
    "        pipeline.set_params(clf = classifier)\n",
    "        pipeline.fit(X_train, y_train)\n",
    "    #     predicted = pipeline.predict(X_test)\n",
    "        probs = pipeline.predict_proba(X_test)[:, 1]\n",
    "        preds = probs.copy()\n",
    "        preds[preds>=threshold] = 1\n",
    "        preds[preds<threshold] = 0\n",
    "        results = np.empty(preds.shape)\n",
    "\n",
    "\n",
    "        print('---------------------------------')\n",
    "        print(str(classifier))\n",
    "        print('-----------------------------------')\n",
    "        accuracy = accuracy_score(y_test, preds)\n",
    "        precision = precision_score(y_test, preds)\n",
    "        recall = recall_score(y_test, preds)\n",
    "\n",
    "        print(f\"Accuracy Score: {accuracy}\")\n",
    "        print(f\"Precision Score: {precision}\")\n",
    "        print(f\"Recall Score: {recall}\")\n"
   ]
  },
  {
   "cell_type": "code",
   "execution_count": 23,
   "metadata": {},
   "outputs": [
    {
     "name": "stdout",
     "output_type": "stream",
     "text": [
      "---------------------------------\n",
      "LogisticRegression(C=1.0, class_weight=None, dual=False, fit_intercept=True,\n",
      "          intercept_scaling=1, max_iter=100, multi_class='warn',\n",
      "          n_jobs=None, penalty='l2', random_state=None, solver='warn',\n",
      "          tol=0.0001, verbose=0, warm_start=False)\n",
      "-----------------------------------\n",
      "Accuracy Score: 0.9489539748953975\n",
      "Precision Score: 0.8804347826086957\n",
      "Recall Score: 0.5015479876160991\n",
      "---------------------------------\n",
      "RandomForestClassifier(bootstrap=True, class_weight=None, criterion='gini',\n",
      "            max_depth=None, max_features='auto', max_leaf_nodes=None,\n",
      "            min_impurity_decrease=0.0, min_impurity_split=None,\n",
      "            min_samples_leaf=1, min_samples_split=2,\n",
      "            min_weight_fraction_leaf=0.0, n_estimators=10, n_jobs=-1,\n",
      "            oob_score=False, random_state=None, verbose=0,\n",
      "            warm_start=False)\n",
      "-----------------------------------\n",
      "Accuracy Score: 0.9760111576011158\n",
      "Precision Score: 0.927797833935018\n",
      "Recall Score: 0.7956656346749226\n",
      "---------------------------------\n",
      "GradientBoostingClassifier(criterion='friedman_mse', init=None,\n",
      "              learning_rate=0.1, loss='deviance', max_depth=3,\n",
      "              max_features=None, max_leaf_nodes=None,\n",
      "              min_impurity_decrease=0.0, min_impurity_split=None,\n",
      "              min_samples_leaf=1, min_samples_split=2,\n",
      "              min_weight_fraction_leaf=0.0, n_estimators=100,\n",
      "              n_iter_no_change=None, presort='auto', random_state=None,\n",
      "              subsample=1.0, tol=0.0001, validation_fraction=0.1,\n",
      "              verbose=0, warm_start=False)\n",
      "-----------------------------------\n",
      "Accuracy Score: 0.9751743375174338\n",
      "Precision Score: 0.920863309352518\n",
      "Recall Score: 0.7925696594427245\n"
     ]
    }
   ],
   "source": [
    "score_model(pipeline, X_train, y_train, X_test,y_test, threshold = 0.5)"
   ]
  },
  {
   "cell_type": "markdown",
   "metadata": {},
   "source": [
    "#### When the threshold increases from 0.5 to 0.75, the peroformance of Logistic Regression and Random Forest gets much worse in terms of the recall score. The recall score of Gradient Boosting CLF gets worse but not as much as the other two models."
   ]
  },
  {
   "cell_type": "code",
   "execution_count": 24,
   "metadata": {},
   "outputs": [
    {
     "name": "stdout",
     "output_type": "stream",
     "text": [
      "---------------------------------\n",
      "LogisticRegression(C=1.0, class_weight=None, dual=False, fit_intercept=True,\n",
      "          intercept_scaling=1, max_iter=100, multi_class='warn',\n",
      "          n_jobs=None, penalty='l2', random_state=None, solver='warn',\n",
      "          tol=0.0001, verbose=0, warm_start=False)\n",
      "-----------------------------------\n",
      "Accuracy Score: 0.9364016736401674\n",
      "Precision Score: 0.9130434782608695\n",
      "Recall Score: 0.32507739938080493\n",
      "---------------------------------\n",
      "RandomForestClassifier(bootstrap=True, class_weight=None, criterion='gini',\n",
      "            max_depth=None, max_features='auto', max_leaf_nodes=None,\n",
      "            min_impurity_decrease=0.0, min_impurity_split=None,\n",
      "            min_samples_leaf=1, min_samples_split=2,\n",
      "            min_weight_fraction_leaf=0.0, n_estimators=10, n_jobs=-1,\n",
      "            oob_score=False, random_state=None, verbose=0,\n",
      "            warm_start=False)\n",
      "-----------------------------------\n",
      "Accuracy Score: 0.9548117154811715\n",
      "Precision Score: 0.9878787878787879\n",
      "Recall Score: 0.5046439628482973\n",
      "---------------------------------\n",
      "GradientBoostingClassifier(criterion='friedman_mse', init=None,\n",
      "              learning_rate=0.1, loss='deviance', max_depth=3,\n",
      "              max_features=None, max_leaf_nodes=None,\n",
      "              min_impurity_decrease=0.0, min_impurity_split=None,\n",
      "              min_samples_leaf=1, min_samples_split=2,\n",
      "              min_weight_fraction_leaf=0.0, n_estimators=100,\n",
      "              n_iter_no_change=None, presort='auto', random_state=None,\n",
      "              subsample=1.0, tol=0.0001, validation_fraction=0.1,\n",
      "              verbose=0, warm_start=False)\n",
      "-----------------------------------\n",
      "Accuracy Score: 0.9679218967921897\n",
      "Precision Score: 0.9684684684684685\n",
      "Recall Score: 0.6656346749226006\n"
     ]
    }
   ],
   "source": [
    "score_model(pipeline, X_train, y_train, X_test,y_test, threshold = 0.75)"
   ]
  },
  {
   "cell_type": "code",
   "execution_count": 25,
   "metadata": {},
   "outputs": [],
   "source": [
    "pipeline.set_params(clf = gb)\n",
    "pipeline.fit(X_train,y_train)\n",
    "model = pipeline.steps[2][1]\n"
   ]
  },
  {
   "cell_type": "code",
   "execution_count": 26,
   "metadata": {},
   "outputs": [],
   "source": [
    "feature_names = list(X_train.columns)\n",
    "\n",
    "feature_importances = model.feature_importances_ / np.sum(model.feature_importances_)\n",
    "\n",
    "feat_df = pd.DataFrame(feature_importances, index = feature_names)\n",
    "feat_df.sort_values(0, ascending = False, inplace=True)"
   ]
  },
  {
   "cell_type": "code",
   "execution_count": 27,
   "metadata": {},
   "outputs": [
    {
     "data": {
      "text/html": [
       "<div>\n",
       "<style scoped>\n",
       "    .dataframe tbody tr th:only-of-type {\n",
       "        vertical-align: middle;\n",
       "    }\n",
       "\n",
       "    .dataframe tbody tr th {\n",
       "        vertical-align: top;\n",
       "    }\n",
       "\n",
       "    .dataframe thead th {\n",
       "        text-align: right;\n",
       "    }\n",
       "</style>\n",
       "<table border=\"1\" class=\"dataframe\">\n",
       "  <thead>\n",
       "    <tr style=\"text-align: right;\">\n",
       "      <th></th>\n",
       "      <th>0</th>\n",
       "    </tr>\n",
       "  </thead>\n",
       "  <tbody>\n",
       "    <tr>\n",
       "      <th>payout_type_nan</th>\n",
       "      <td>0.394240</td>\n",
       "    </tr>\n",
       "    <tr>\n",
       "      <th>sale_duration</th>\n",
       "      <td>0.277335</td>\n",
       "    </tr>\n",
       "    <tr>\n",
       "      <th>user_event_delta</th>\n",
       "      <td>0.204145</td>\n",
       "    </tr>\n",
       "    <tr>\n",
       "      <th>cost min</th>\n",
       "      <td>0.027692</td>\n",
       "    </tr>\n",
       "    <tr>\n",
       "      <th>cost max</th>\n",
       "      <td>0.025644</td>\n",
       "    </tr>\n",
       "    <tr>\n",
       "      <th>venue_longitude</th>\n",
       "      <td>0.013696</td>\n",
       "    </tr>\n",
       "    <tr>\n",
       "      <th>venue_latitude</th>\n",
       "      <td>0.011371</td>\n",
       "    </tr>\n",
       "    <tr>\n",
       "      <th>body_length</th>\n",
       "      <td>0.011204</td>\n",
       "    </tr>\n",
       "    <tr>\n",
       "      <th>payout_type_CHECK</th>\n",
       "      <td>0.009193</td>\n",
       "    </tr>\n",
       "    <tr>\n",
       "      <th>quantity_total sum</th>\n",
       "      <td>0.008936</td>\n",
       "    </tr>\n",
       "    <tr>\n",
       "      <th>name_length</th>\n",
       "      <td>0.005281</td>\n",
       "    </tr>\n",
       "    <tr>\n",
       "      <th>currency_GBP</th>\n",
       "      <td>0.003788</td>\n",
       "    </tr>\n",
       "    <tr>\n",
       "      <th>has_logo</th>\n",
       "      <td>0.002019</td>\n",
       "    </tr>\n",
       "    <tr>\n",
       "      <th>ticket_tiers_num</th>\n",
       "      <td>0.000968</td>\n",
       "    </tr>\n",
       "    <tr>\n",
       "      <th>hour__8</th>\n",
       "      <td>0.000942</td>\n",
       "    </tr>\n",
       "    <tr>\n",
       "      <th>day_of_week_Sunday</th>\n",
       "      <td>0.000451</td>\n",
       "    </tr>\n",
       "    <tr>\n",
       "      <th>hour__9</th>\n",
       "      <td>0.000433</td>\n",
       "    </tr>\n",
       "    <tr>\n",
       "      <th>hour__11</th>\n",
       "      <td>0.000408</td>\n",
       "    </tr>\n",
       "    <tr>\n",
       "      <th>listed</th>\n",
       "      <td>0.000333</td>\n",
       "    </tr>\n",
       "    <tr>\n",
       "      <th>hour__16</th>\n",
       "      <td>0.000204</td>\n",
       "    </tr>\n",
       "  </tbody>\n",
       "</table>\n",
       "</div>"
      ],
      "text/plain": [
       "                           0\n",
       "payout_type_nan     0.394240\n",
       "sale_duration       0.277335\n",
       "user_event_delta    0.204145\n",
       "cost min            0.027692\n",
       "cost max            0.025644\n",
       "venue_longitude     0.013696\n",
       "venue_latitude      0.011371\n",
       "body_length         0.011204\n",
       "payout_type_CHECK   0.009193\n",
       "quantity_total sum  0.008936\n",
       "name_length         0.005281\n",
       "currency_GBP        0.003788\n",
       "has_logo            0.002019\n",
       "ticket_tiers_num    0.000968\n",
       "hour__8             0.000942\n",
       "day_of_week_Sunday  0.000451\n",
       "hour__9             0.000433\n",
       "hour__11            0.000408\n",
       "listed              0.000333\n",
       "hour__16            0.000204"
      ]
     },
     "execution_count": 27,
     "metadata": {},
     "output_type": "execute_result"
    }
   ],
   "source": [
    "feat_df[:20]"
   ]
  },
  {
   "cell_type": "code",
   "execution_count": 65,
   "metadata": {},
   "outputs": [
    {
     "data": {
      "text/plain": [
       "['payout_type_nan',\n",
       " 'sale_duration',\n",
       " 'user_event_delta',\n",
       " 'cost min',\n",
       " 'cost max',\n",
       " 'venue_longitude']"
      ]
     },
     "execution_count": 65,
     "metadata": {},
     "output_type": "execute_result"
    }
   ],
   "source": [
    "feat_short_lst = feat_df[:6].index.to_list()\n",
    "feat_short_lst"
   ]
  },
  {
   "cell_type": "code",
   "execution_count": 66,
   "metadata": {},
   "outputs": [
    {
     "name": "stdout",
     "output_type": "stream",
     "text": [
      "---------------------------------\n",
      "LogisticRegression(C=1.0, class_weight=None, dual=False, fit_intercept=True,\n",
      "          intercept_scaling=1, max_iter=100, multi_class='warn',\n",
      "          n_jobs=None, penalty='l2', random_state=None, solver='warn',\n",
      "          tol=0.0001, verbose=0, warm_start=False)\n",
      "-----------------------------------\n",
      "Accuracy Score: 0.9352859135285914\n",
      "Precision Score: 0.9099099099099099\n",
      "Recall Score: 0.3126934984520124\n",
      "---------------------------------\n",
      "RandomForestClassifier(bootstrap=True, class_weight=None, criterion='gini',\n",
      "            max_depth=None, max_features='auto', max_leaf_nodes=None,\n",
      "            min_impurity_decrease=0.0, min_impurity_split=None,\n",
      "            min_samples_leaf=1, min_samples_split=2,\n",
      "            min_weight_fraction_leaf=0.0, n_estimators=10, n_jobs=-1,\n",
      "            oob_score=False, random_state=None, verbose=0,\n",
      "            warm_start=False)\n",
      "-----------------------------------\n",
      "Accuracy Score: 0.9735006973500697\n",
      "Precision Score: 0.8986013986013986\n",
      "Recall Score: 0.7956656346749226\n",
      "---------------------------------\n",
      "GradientBoostingClassifier(criterion='friedman_mse', init=None,\n",
      "              learning_rate=0.1, loss='deviance', max_depth=3,\n",
      "              max_features=None, max_leaf_nodes=None,\n",
      "              min_impurity_decrease=0.0, min_impurity_split=None,\n",
      "              min_samples_leaf=1, min_samples_split=2,\n",
      "              min_weight_fraction_leaf=0.0, n_estimators=100,\n",
      "              n_iter_no_change=None, presort='auto', random_state=None,\n",
      "              subsample=1.0, tol=0.0001, validation_fraction=0.1,\n",
      "              verbose=0, warm_start=False)\n",
      "-----------------------------------\n",
      "Accuracy Score: 0.9712691771269177\n",
      "Precision Score: 0.9044117647058824\n",
      "Recall Score: 0.7616099071207431\n"
     ]
    }
   ],
   "source": [
    "score_model(pipeline, X_train[feat_short_lst], y_train, X_test[feat_short_lst], y_test, threshold = 0.5)"
   ]
  },
  {
   "cell_type": "code",
   "execution_count": 67,
   "metadata": {},
   "outputs": [],
   "source": [
    "pipeline.set_params(clf = rf)\n",
    "pipeline.fit(X_train[feat_short_lst],y_train)\n",
    "predicted = pipeline.predict(X_test[feat_short_lst])"
   ]
  },
  {
   "cell_type": "code",
   "execution_count": 75,
   "metadata": {},
   "outputs": [
    {
     "data": {
      "image/png": "[encoded data removed]",
      "text/plain": [
       "<Figure size 864x192.96 with 1 Axes>"
      ]
     },
     "metadata": {
      "needs_background": "light"
     },
     "output_type": "display_data"
    }
   ],
   "source": [
    "from rfpimp import *\n",
    "\n",
    "imp = importances(pipeline, X_test[feat_short_lst], y_test, n_samples=-1)\n",
    "\n",
    "viz = plot_importances(imp[0:10],  yrot=0,\n",
    "                            label_fontsize=12,\n",
    "                            width=12,\n",
    "                            minheight=1.5,\n",
    "                            vscale=2.0,\n",
    "                            imp_range=(0, imp['Importance'].max() + .03),\n",
    "                            color='#484c51',\n",
    "                            bgcolor='#F1F8FE',  # seaborn uses '#F1F8FE'\n",
    "                            xtick_precision=2,\n",
    "                            title='Permutation Importances')\n",
    "\n",
    "viz.view()"
   ]
  },
  {
   "cell_type": "code",
   "execution_count": 72,
   "metadata": {},
   "outputs": [
    {
     "data": {
      "text/html": [
       "<div>\n",
       "<style scoped>\n",
       "    .dataframe tbody tr th:only-of-type {\n",
       "        vertical-align: middle;\n",
       "    }\n",
       "\n",
       "    .dataframe tbody tr th {\n",
       "        vertical-align: top;\n",
       "    }\n",
       "\n",
       "    .dataframe thead th {\n",
       "        text-align: right;\n",
       "    }\n",
       "</style>\n",
       "<table border=\"1\" class=\"dataframe\">\n",
       "  <thead>\n",
       "    <tr style=\"text-align: right;\">\n",
       "      <th></th>\n",
       "      <th>Importance</th>\n",
       "    </tr>\n",
       "    <tr>\n",
       "      <th>Feature</th>\n",
       "      <th></th>\n",
       "    </tr>\n",
       "  </thead>\n",
       "  <tbody>\n",
       "    <tr>\n",
       "      <th>payout_type_nan</th>\n",
       "      <td>0.044073</td>\n",
       "    </tr>\n",
       "    <tr>\n",
       "      <th>sale_duration</th>\n",
       "      <td>0.038773</td>\n",
       "    </tr>\n",
       "    <tr>\n",
       "      <th>user_event_delta</th>\n",
       "      <td>0.038215</td>\n",
       "    </tr>\n",
       "    <tr>\n",
       "      <th>cost min</th>\n",
       "      <td>0.009763</td>\n",
       "    </tr>\n",
       "    <tr>\n",
       "      <th>venue_longitude</th>\n",
       "      <td>0.007252</td>\n",
       "    </tr>\n",
       "    <tr>\n",
       "      <th>cost max</th>\n",
       "      <td>0.005300</td>\n",
       "    </tr>\n",
       "  </tbody>\n",
       "</table>\n",
       "</div>"
      ],
      "text/plain": [
       "                  Importance\n",
       "Feature                     \n",
       "payout_type_nan     0.044073\n",
       "sale_duration       0.038773\n",
       "user_event_delta    0.038215\n",
       "cost min            0.009763\n",
       "venue_longitude     0.007252\n",
       "cost max            0.005300"
      ]
     },
     "execution_count": 72,
     "metadata": {},
     "output_type": "execute_result"
    }
   ],
   "source": [
    "imp"
   ]
  },
  {
   "cell_type": "markdown",
   "metadata": {},
   "source": [
    "#### Apply the model to the entire dataset"
   ]
  },
  {
   "cell_type": "code",
   "execution_count": 76,
   "metadata": {},
   "outputs": [
    {
     "data": {
      "text/plain": [
       "Pipeline(memory=None,\n",
       "     steps=[('scale', StandardScaler(copy=True, with_mean=True, with_std=True)), ('impute', SimpleImputer(copy=True, fill_value=0, missing_values=nan, strategy='mean',\n",
       "       verbose=0)), ('clf', RandomForestClassifier(bootstrap=True, class_weight=None, criterion='gini',\n",
       "            max_depth=None, max_f..._jobs=-1,\n",
       "            oob_score=False, random_state=None, verbose=0,\n",
       "            warm_start=False))])"
      ]
     },
     "execution_count": 76,
     "metadata": {},
     "output_type": "execute_result"
    }
   ],
   "source": [
    "pipeline.set_params(clf = rf)\n",
    "pipeline.fit(X[feat_short_lst],y)\n"
   ]
  },
  {
   "cell_type": "code",
   "execution_count": 77,
   "metadata": {},
   "outputs": [],
   "source": [
    "model = pipeline.steps[2][1]\n",
    "\n",
    "pickle.dump(model,open('data/rf_model_ks.p','wb'))"
   ]
  },
  {
   "cell_type": "code",
   "execution_count": null,
   "metadata": {},
   "outputs": [],
   "source": []
  }
 ],
 "metadata": {
  "kernelspec": {
   "display_name": "Python 3",
   "language": "python",
   "name": "python3"
  },
  "language_info": {
   "codemirror_mode": {
    "name": "ipython",
    "version": 3
   },
   "file_extension": ".py",
   "mimetype": "text/x-python",
   "name": "python",
   "nbconvert_exporter": "python",
   "pygments_lexer": "ipython3",
   "version": "3.7.1"
  }
 },
 "nbformat": 4,
 "nbformat_minor": 2
}
