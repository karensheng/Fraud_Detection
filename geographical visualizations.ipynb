{
 "cells": [
  {
   "cell_type": "code",
   "execution_count": 1,
   "metadata": {},
   "outputs": [
    {
     "name": "stdout",
     "output_type": "stream",
     "text": [
      "Requirement already satisfied: reverse_geocoder in /Users/karensheng/anaconda3/lib/python3.7/site-packages (1.5.1)\r\n",
      "Requirement already satisfied: numpy>=1.11.0 in /Users/karensheng/anaconda3/lib/python3.7/site-packages (from reverse_geocoder) (1.16.4)\r\n",
      "Requirement already satisfied: scipy>=0.17.1 in /Users/karensheng/anaconda3/lib/python3.7/site-packages (from reverse_geocoder) (1.1.0)\r\n"
     ]
    }
   ],
   "source": [
    "!pip install reverse_geocoder"
   ]
  },
  {
   "cell_type": "code",
   "execution_count": 2,
   "metadata": {},
   "outputs": [],
   "source": [
    "import pandas as pd\n",
    "\n",
    "import matplotlib.pyplot as plt\n",
    "import seaborn as sns\n",
    "\n",
    "import folium\n",
    "from folium.plugins import HeatMap\n",
    "from folium.plugins import FastMarkerCluster\n",
    "from folium.plugins import HeatMapWithTime\n",
    "\n",
    "from bs4 import BeautifulSoup\n",
    "\n",
    "import reverse_geocoder as rg \n",
    "import pprint \n",
    "import pickle\n",
    "\n",
    "from IPython.core.interactiveshell import InteractiveShell\n",
    "InteractiveShell.ast_node_interactivity = \"all\"\n",
    "\n",
    "import warnings\n",
    "warnings.simplefilter('ignore')"
   ]
  },
  {
   "cell_type": "code",
   "execution_count": 3,
   "metadata": {},
   "outputs": [],
   "source": [
    "# %load src/merging geospatial info.py\n",
    "\n",
    "\n",
    "import pandas as pd\n",
    "import pickle\n",
    "\n",
    "\n",
    "rg = pd.read_pickle('data/rg.pkl')\n",
    "\n",
    "get_ipython().run_line_magic('run', 'src/pipeline')\n",
    "D = FraudData('data/data.json')\n",
    "df = D.get_enriched_df()\n",
    "\n",
    "loc = df[['venue_latitude','venue_longitude','object_id']]\n",
    "loc = loc[~loc['venue_latitude'].isnull()]\n",
    "\n",
    "loc2 = loc.join(rg)\n",
    "loc3 = loc2.drop(['venue_latitude', 'venue_longitude'],axis = 1)\n",
    "df_geo = df.merge(loc3, how='left', right_on = 'object_id', left_on = 'object_id')\n",
    "\n",
    "\n",
    "\n"
   ]
  },
  {
   "cell_type": "code",
   "execution_count": 4,
   "metadata": {},
   "outputs": [
    {
     "data": {
      "text/html": [
       "<div>\n",
       "<style scoped>\n",
       "    .dataframe tbody tr th:only-of-type {\n",
       "        vertical-align: middle;\n",
       "    }\n",
       "\n",
       "    .dataframe tbody tr th {\n",
       "        vertical-align: top;\n",
       "    }\n",
       "\n",
       "    .dataframe thead th {\n",
       "        text-align: right;\n",
       "    }\n",
       "</style>\n",
       "<table border=\"1\" class=\"dataframe\">\n",
       "  <thead>\n",
       "    <tr style=\"text-align: right;\">\n",
       "      <th></th>\n",
       "      <th>acct_type</th>\n",
       "      <th>approx_payout_date</th>\n",
       "      <th>body_length</th>\n",
       "      <th>channels</th>\n",
       "      <th>country</th>\n",
       "      <th>currency</th>\n",
       "      <th>delivery_method</th>\n",
       "      <th>description</th>\n",
       "      <th>email_domain</th>\n",
       "      <th>event_created</th>\n",
       "      <th>...</th>\n",
       "      <th>ec_month</th>\n",
       "      <th>ec_week</th>\n",
       "      <th>ec_weekday</th>\n",
       "      <th>ec_day</th>\n",
       "      <th>ec_hour</th>\n",
       "      <th>user_event_delta</th>\n",
       "      <th>city_std</th>\n",
       "      <th>admin1</th>\n",
       "      <th>admin2</th>\n",
       "      <th>country_std</th>\n",
       "    </tr>\n",
       "  </thead>\n",
       "  <tbody>\n",
       "    <tr>\n",
       "      <th>0</th>\n",
       "      <td>fraudster_event</td>\n",
       "      <td>1266062400</td>\n",
       "      <td>3852</td>\n",
       "      <td>5</td>\n",
       "      <td>US</td>\n",
       "      <td>USD</td>\n",
       "      <td>0.0</td>\n",
       "      <td>&lt;p&gt;&lt;a href=\"http://s432.photobucket.com/albums...</td>\n",
       "      <td>gmail.com</td>\n",
       "      <td>1262739706</td>\n",
       "      <td>...</td>\n",
       "      <td>1</td>\n",
       "      <td>1</td>\n",
       "      <td>2</td>\n",
       "      <td>6</td>\n",
       "      <td>1</td>\n",
       "      <td>1.188615</td>\n",
       "      <td>Miami Beach</td>\n",
       "      <td>Florida</td>\n",
       "      <td>Miami-Dade County</td>\n",
       "      <td>US</td>\n",
       "    </tr>\n",
       "  </tbody>\n",
       "</table>\n",
       "<p>1 rows × 64 columns</p>\n",
       "</div>"
      ],
      "text/plain": [
       "         acct_type  approx_payout_date  body_length  channels country  \\\n",
       "0  fraudster_event          1266062400         3852         5      US   \n",
       "\n",
       "  currency  delivery_method  \\\n",
       "0      USD              0.0   \n",
       "\n",
       "                                         description email_domain  \\\n",
       "0  <p><a href=\"http://s432.photobucket.com/albums...    gmail.com   \n",
       "\n",
       "   event_created  ...  ec_month  ec_week  ec_weekday  ec_day  ec_hour  \\\n",
       "0     1262739706  ...         1        1           2       6        1   \n",
       "\n",
       "   user_event_delta     city_std   admin1             admin2 country_std  \n",
       "0          1.188615  Miami Beach  Florida  Miami-Dade County          US  \n",
       "\n",
       "[1 rows x 64 columns]"
      ]
     },
     "execution_count": 4,
     "metadata": {},
     "output_type": "execute_result"
    }
   ],
   "source": [
    "df = df_geo.copy()\n",
    "df.head(1)"
   ]
  },
  {
   "cell_type": "markdown",
   "metadata": {},
   "source": [
    "#### Geographical visualization of all the events"
   ]
  },
  {
   "cell_type": "code",
   "execution_count": 5,
   "metadata": {},
   "outputs": [],
   "source": [
    "default_loc = df['venue_latitude'].mean(), df['venue_longitude'].mean()\n",
    "\n",
    "def generateBaseMap(default_location=default_loc, default_zoom_start= 3):\n",
    "    base_map = folium.Map(location=default_location, control_scale=True, zoom_start=default_zoom_start)\n",
    "    return base_map\n",
    "\n",
    "\n"
   ]
  },
  {
   "cell_type": "code",
   "execution_count": 6,
   "metadata": {},
   "outputs": [
    {
     "data": {
      "text/plain": [
       "<folium.plugins.heat_map.HeatMap at 0x1aa7219fd0>"
      ]
     },
     "execution_count": 6,
     "metadata": {},
     "output_type": "execute_result"
    }
   ],
   "source": [
    "df_copy = df.copy()\n",
    "df_copy['count'] = 1\n",
    "base_map = generateBaseMap()\n",
    "HeatMap(data=df_copy[['venue_latitude', 'venue_longitude', 'count']].groupby(['venue_latitude', 'venue_longitude']).sum().reset_index().values.tolist(), radius=8, max_zoom=13).add_to(base_map)\n",
    "\n",
    "\n",
    "base_map.save('images/events_heatmap.html')"
   ]
  },
  {
   "cell_type": "code",
   "execution_count": 7,
   "metadata": {},
   "outputs": [
    {
     "data": {
      "text/plain": [
       "(13261, 65)"
      ]
     },
     "execution_count": 7,
     "metadata": {},
     "output_type": "execute_result"
    }
   ],
   "source": [
    "df2 = df_copy[~df_copy['venue_latitude'].isnull()]\n",
    "df2.shape"
   ]
  },
  {
   "cell_type": "code",
   "execution_count": 8,
   "metadata": {},
   "outputs": [
    {
     "data": {
      "text/plain": [
       "<folium.plugins.fast_marker_cluster.FastMarkerCluster at 0x1aa77856a0>"
      ]
     },
     "execution_count": 8,
     "metadata": {},
     "output_type": "execute_result"
    }
   ],
   "source": [
    "lat = df2['venue_latitude'].tolist()\n",
    "lon = df2['venue_longitude'].tolist()\n",
    "locations = list(zip(lat, lon))\n",
    "\n",
    "map1 = folium.Map(location=default_loc, zoom_start=3)\n",
    "FastMarkerCluster(data=locations).add_to(map1)\n",
    "map1.save('images/events_ClusteredMarker.html')"
   ]
  },
  {
   "cell_type": "markdown",
   "metadata": {},
   "source": [
    "#### Geographical visualization of fraudulent events only"
   ]
  },
  {
   "cell_type": "code",
   "execution_count": 9,
   "metadata": {},
   "outputs": [
    {
     "data": {
      "text/plain": [
       "(1293, 64)"
      ]
     },
     "execution_count": 9,
     "metadata": {},
     "output_type": "execute_result"
    }
   ],
   "source": [
    "fraud_all = df.query('label == 1')\n",
    "fraud_all.shape"
   ]
  },
  {
   "cell_type": "code",
   "execution_count": 10,
   "metadata": {},
   "outputs": [
    {
     "data": {
      "text/plain": [
       "(923, 65)"
      ]
     },
     "execution_count": 10,
     "metadata": {},
     "output_type": "execute_result"
    }
   ],
   "source": [
    "fraud = df2.query('label == 1')\n",
    "fraud.shape\n",
    "\n",
    "# 70% of the fraudulent events have geo info."
   ]
  },
  {
   "cell_type": "code",
   "execution_count": 11,
   "metadata": {},
   "outputs": [
    {
     "data": {
      "text/plain": [
       "<folium.plugins.heat_map.HeatMap at 0x1aa720a470>"
      ]
     },
     "execution_count": 11,
     "metadata": {},
     "output_type": "execute_result"
    }
   ],
   "source": [
    "fraud['count'] = 1\n",
    "base_map = generateBaseMap()\n",
    "HeatMap(data=fraud[['venue_latitude', 'venue_longitude', 'count']].groupby(['venue_latitude', 'venue_longitude']).sum().reset_index().values.tolist(), radius=8, max_zoom=13).add_to(base_map)\n",
    "base_map.save('images/fraud_heatmap.html')"
   ]
  },
  {
   "cell_type": "code",
   "execution_count": 12,
   "metadata": {},
   "outputs": [
    {
     "data": {
      "text/plain": [
       "<folium.plugins.fast_marker_cluster.FastMarkerCluster at 0x1aa6f5deb8>"
      ]
     },
     "execution_count": 12,
     "metadata": {},
     "output_type": "execute_result"
    }
   ],
   "source": [
    "lat = fraud['venue_latitude'].tolist()\n",
    "lon = fraud['venue_longitude'].tolist()\n",
    "locations = list(zip(lat, lon))\n",
    "\n",
    "map2 = folium.Map(location= default_loc, zoom_start= 3)\n",
    "FastMarkerCluster(data=locations).add_to(map2)\n",
    "map2.save('images/fraud_ClusteredMarker.html')"
   ]
  },
  {
   "cell_type": "markdown",
   "metadata": {},
   "source": [
    "#### Geographical Visualization with Popup"
   ]
  },
  {
   "cell_type": "markdown",
   "metadata": {},
   "source": [
    "#### Heatmap with Time"
   ]
  },
  {
   "cell_type": "code",
   "execution_count": 13,
   "metadata": {},
   "outputs": [],
   "source": [
    "fraud['ec_mth_yr'] = pd.to_datetime(fraud.ec_year.astype(str) + '-' + fraud.ec_month.astype(str))"
   ]
  },
  {
   "cell_type": "code",
   "execution_count": 14,
   "metadata": {},
   "outputs": [
    {
     "data": {
      "text/plain": [
       "2013-09-01    68\n",
       "2012-10-01    52\n",
       "2012-03-01    51\n",
       "2012-11-01    50\n",
       "2012-12-01    44\n",
       "2013-08-01    42\n",
       "2013-01-01    40\n",
       "2013-07-01    40\n",
       "2012-04-01    39\n",
       "2013-06-01    36\n",
       "2012-05-01    35\n",
       "2012-06-01    33\n",
       "2012-09-01    29\n",
       "2012-07-01    27\n",
       "2012-02-01    26\n",
       "2013-03-01    25\n",
       "2013-02-01    22\n",
       "2011-12-01    20\n",
       "2013-04-01    19\n",
       "2011-02-01    18\n",
       "2011-01-01    18\n",
       "2011-05-01    17\n",
       "2011-04-01    17\n",
       "2011-07-01    17\n",
       "2012-08-01    17\n",
       "2011-08-01    16\n",
       "2013-05-01    14\n",
       "2013-10-01    13\n",
       "2012-01-01    13\n",
       "2011-03-01    11\n",
       "2011-06-01    11\n",
       "2011-09-01     6\n",
       "2011-11-01     6\n",
       "2008-03-01     6\n",
       "2011-10-01     5\n",
       "2007-02-01     3\n",
       "2009-03-01     3\n",
       "2010-02-01     3\n",
       "2009-11-01     3\n",
       "2010-05-01     1\n",
       "2010-12-01     1\n",
       "2010-11-01     1\n",
       "2010-08-01     1\n",
       "2010-07-01     1\n",
       "2009-10-01     1\n",
       "2010-01-01     1\n",
       "2010-09-01     1\n",
       "Name: ec_mth_yr, dtype: int64"
      ]
     },
     "execution_count": 14,
     "metadata": {},
     "output_type": "execute_result"
    }
   ],
   "source": [
    "fraud.ec_mth_yr.value_counts()"
   ]
  },
  {
   "cell_type": "code",
   "execution_count": 15,
   "metadata": {},
   "outputs": [],
   "source": [
    "event_dt_list = []\n",
    "for dt in fraud.ec_mth_yr.sort_values().unique():\n",
    "    event_dt_list.append(fraud.loc[fraud.ec_mth_yr == dt, ['venue_latitude', 'venue_longitude', 'count']].groupby(['venue_latitude', 'venue_longitude']).sum().reset_index().values.tolist())"
   ]
  },
  {
   "cell_type": "code",
   "execution_count": 16,
   "metadata": {},
   "outputs": [
    {
     "data": {
      "text/plain": [
       "<folium.plugins.heat_map_withtime.HeatMapWithTime at 0x1a9ea29780>"
      ]
     },
     "execution_count": 16,
     "metadata": {},
     "output_type": "execute_result"
    }
   ],
   "source": [
    "base_map = generateBaseMap()\n",
    "HeatMapWithTime(event_dt_list, radius=3, gradient={0.8: 'red'}, min_opacity=0.5, max_opacity=0.8, use_local_extrema=True).add_to(base_map)\n",
    "base_map.save('images/fraud_heatmap_time.html')\n",
    "\n"
   ]
  },
  {
   "cell_type": "code",
   "execution_count": null,
   "metadata": {},
   "outputs": [],
   "source": []
  }
 ],
 "metadata": {
  "kernelspec": {
   "display_name": "Python 3",
   "language": "python",
   "name": "python3"
  },
  "language_info": {
   "codemirror_mode": {
    "name": "ipython",
    "version": 3
   },
   "file_extension": ".py",
   "mimetype": "text/x-python",
   "name": "python",
   "nbconvert_exporter": "python",
   "pygments_lexer": "ipython3",
   "version": "3.7.1"
  }
 },
 "nbformat": 4,
 "nbformat_minor": 2
}
