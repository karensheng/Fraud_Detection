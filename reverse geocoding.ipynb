{
 "cells": [
  {
   "cell_type": "code",
   "execution_count": null,
   "metadata": {},
   "outputs": [],
   "source": [
    "!pip install reverse_geocoder"
   ]
  },
  {
   "cell_type": "code",
   "execution_count": null,
   "metadata": {},
   "outputs": [],
   "source": [
    "import pandas as pd\n",
    "\n",
    "import matplotlib.pyplot as plt\n",
    "import seaborn as sns\n",
    "\n",
    "import reverse_geocoder as rg \n",
    "import pprint \n",
    "  "
   ]
  },
  {
   "cell_type": "code",
   "execution_count": null,
   "metadata": {},
   "outputs": [],
   "source": [
    "get_ipython().run_line_magic('run', 'src/pipeline')\n",
    "D = FraudData('data/data.json')\n",
    "df = D.get_enriched_df()\n",
    "\n",
    "\n",
    "def reverseGeocoder(df):\n",
    "    \n",
    "    loc = df[['venue_latitude','venue_longitude','object_id']]\n",
    "    loc = loc[~loc['venue_latitude'].isnull()]\n",
    "\n",
    "    results = []\n",
    "\n",
    "    for index, row in loc.iterrows():\n",
    "        results.append(rg.search((row[0],row[1])))\n",
    "\n",
    "    name = []\n",
    "    admin1 = []\n",
    "    admin2 = []\n",
    "    cc = []\n",
    "\n",
    "    for i in range(len(results)):\n",
    "\n",
    "        name.append(results[i][0].get('name'))\n",
    "        admin1.append(results[i][0].get('admin1'))\n",
    "        admin2.append(results[i][0].get('admin2'))\n",
    "        cc.append(results[i][0].get('cc'))\n",
    "\n",
    "    rg = pd.DataFrame(list(zip(name,admin1,admin2,cc)))\n",
    "    rg.columns = ['city_std','admin1','admin2','country_std']\n",
    "\n",
    "\n",
    "    loc2 = pd.concat([loc,rg],ignore_index = False,axis = 1,sort=False)\n",
    "\n",
    "    return rg, loc2"
   ]
  },
  {
   "cell_type": "code",
   "execution_count": null,
   "metadata": {},
   "outputs": [],
   "source": [
    "rg, loc2 = reverseGeocoder(df)"
   ]
  },
  {
   "cell_type": "code",
   "execution_count": null,
   "metadata": {},
   "outputs": [],
   "source": [
    "rg.to_pickle('data/rg.pkl')"
   ]
  },
  {
   "cell_type": "code",
   "execution_count": null,
   "metadata": {},
   "outputs": [],
   "source": [
    "loc2.to_pickle('data/loc2.pkl')"
   ]
  }
 ],
 "metadata": {
  "kernelspec": {
   "display_name": "Python 3",
   "language": "python",
   "name": "python3"
  },
  "language_info": {
   "codemirror_mode": {
    "name": "ipython",
    "version": 3
   },
   "file_extension": ".py",
   "mimetype": "text/x-python",
   "name": "python",
   "nbconvert_exporter": "python",
   "pygments_lexer": "ipython3",
   "version": "3.7.1"
  }
 },
 "nbformat": 4,
 "nbformat_minor": 2
}
